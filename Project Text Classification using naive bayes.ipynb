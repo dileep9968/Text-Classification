{
 "cells": [
  {
   "cell_type": "code",
   "execution_count": 1,
   "metadata": {},
   "outputs": [],
   "source": [
    "#models are requried\n",
    "import numpy as np\n",
    "import pandas as pd\n",
    "import operator\n",
    "import os,sys\n",
    "import re,string"
   ]
  },
  {
   "cell_type": "code",
   "execution_count": 2,
   "metadata": {},
   "outputs": [],
   "source": [
    "#This are stop_words in common taken from intenet.\n",
    "stop_word=[\"a\",\"about\",\"above\",\"after\",\"again\",\"against\",\"all\",\"am\",\"an\",\"and\",\"any\",\"are\",\"as\",\"at\",\"be\",\"because\",\"been\",\"before\",\"being\",\"below\",\"between\",\"both\",\"but\",\n",
    "\"by\",\"could\",\"did\",\"do\",\"does\",\"doing\",\"down\",\"during\",\"each\",\"few\",\"for\",\"from\",\"further\",\"had\",\"has\",\"have\",\"having\",\"he\",\"he'd\",\"he'll\",\"he's\",\"her\",\n",
    "\"here\",\"here's\",\"hers\",\"herself\",\"him\",\"himself\",\"his\",\"how\",\"how's\",\"i\",\"i'd\",\"i'll\",\"i'm\",\"i've\",\"if\",\"in\",\"into\",\"is\",\"it\",\"it's\",\"its\",\"itself\",\"let's\",\"me\",\n",
    "\"more\",\"most\",\"my\",\"myself\",\"nor\",\"of\",\"on\",\"once\",\"only\",\"or\",\"other\",\"ought\",\"our\",\"ours\",\"ourselves\",\"out\",\"over\",\"own\",\"same\",\"she\",\n",
    "\"she'd\",\"she'll\",\"she's\",\"should\",\"so\",\"some\",\"such\",\"than\",\"that\",\"that's\",\"the\",\"their\",\"theirs\",\"them\",\"themselves\",\"then\",\"there\",\"there's\",\n",
    "\"these\",\"they\",\"they'd\",\"they'll\",\"they're\",\"they've\",\"this\",\"those\",\"through\",\"to\",\"too\",\"under\",\"until\",\"up\",\"very\",\"was\",\"we\",\"we'd\",\n",
    "\"we'll\",\"we're\",\"we've\",\"were\",\"what\",\"what's\",\"when\",\"when's\",\"where\",\"where's\",\"which\",\"while\",\"who\",\"who's\",\"whom\",\"why\",\"why's\",\"with\",\n",
    "\"would\",\"you\",\"you'd\",\"you'll\",\"you're\",\"you've\",\"your\",\"yours\",\"yourself\",\"yourselves\"]"
   ]
  },
  {
   "cell_type": "code",
   "execution_count": 3,
   "metadata": {},
   "outputs": [],
   "source": [
    "x=[]\n",
    "y=[]\n",
    "#read the documnets form all groups of news\n",
    "for category in os.listdir(\"Dataset/Newsgroup/20_newsgroups\"):\n",
    "    for document in os.listdir(\"Dataset/Newsgroup/20_newsgroups/\"+category):\n",
    "        with open(\"Dataset/Newsgroup/20_newsgroups/\"+category+'/'+document,\"r\") as f:\n",
    "            x.append((document,f.read()))\n",
    "            y.append(category)"
   ]
  },
  {
   "cell_type": "code",
   "execution_count": 4,
   "metadata": {},
   "outputs": [
    {
     "name": "stdout",
     "output_type": "stream",
     "text": [
      "<class 'list'>\n",
      "<class 'tuple'>\n",
      "<class 'str'>\n",
      "<class 'str'>\n",
      "<class 'list'>\n",
      "('51127', \"Path: cantaloupe.srv.cs.cmu.edu!crabapple.srv.cs.cmu.edu!fs7.ece.cmu.edu!europa.eng.gtefsd.com!howland.reston.ans.net!noc.near.net!news.centerline.com!uunet!olivea!sgigate!sgiblab!adagio.panasonic.com!nntp-server.caltech.edu!keith\\nFrom: keith@cco.caltech.edu (Keith Allan Schneider)\\nNewsgroups: alt.atheism\\nSubject: Re: >>>>>>Pompous ass\\nMessage-ID: <1pi9jkINNqe2@gap.caltech.edu>\\nDate: 2 Apr 93 21:01:40 GMT\\nReferences: <1ou4koINNe67@gap.caltech.edu> <1p72bkINNjt7@gap.caltech.edu> <93089.050046MVS104@psuvm.psu.edu> <1pa6ntINNs5d@gap.caltech.edu> <1993Mar30.205919.26390@blaze.cs.jhu.edu> <1pcnp3INNpom@gap.caltech.edu> <1pdjip$jsi@fido.asd.sgi.com>\\nOrganization: California Institute of Technology, Pasadena\\nLines: 14\\nNNTP-Posting-Host: punisher.caltech.edu\\n\\nlivesey@solntze.wpd.sgi.com (Jon Livesey) writes:\\n\\n>>>How long does it [the motto] have to stay around before it becomes the\\n>>>default?  ...  Where's the cutoff point? \\n>>I don't know where the exact cutoff is, but it is at least after a few\\n>>years, and surely after 40 years.\\n>Why does the notion of default not take into account changes\\n>in population makeup?     \\n\\nSpecifically, which changes are you talking about?  Are you arguing\\nthat the motto is interpreted as offensive by a larger portion of the\\npopulation now than 40 years ago?\\n\\nkeith\\n\")\n"
     ]
    }
   ],
   "source": [
    "print(type(x))\n",
    "print(type(x[0]))\n",
    "print(type(x[0][0]))\n",
    "print(type(x[0][1]))\n",
    "print(type(y))\n",
    "print(x[10])"
   ]
  },
  {
   "cell_type": "code",
   "execution_count": 5,
   "metadata": {},
   "outputs": [],
   "source": [
    "#split the data into train and test\n",
    "from sklearn import model_selection\n",
    "x_train,x_test,y_train,y_test=model_selection.train_test_split(x,y)"
   ]
  },
  {
   "cell_type": "code",
   "execution_count": 40,
   "metadata": {},
   "outputs": [],
   "source": [
    "#making a dictionary of words with their corresponding frquencey\n",
    "dic={}\n",
    "for i in range(len(x_train)):\n",
    "    #look [1] beacuse [0] is  name of the documnets and [1] is text in documnts\n",
    "    word=x_train[i][1]\n",
    "    #split the text into word\n",
    "    strip = re.split(r'\\W+',word)\n",
    "    #iterate over each word\n",
    "    for w in strip:\n",
    "        #we will no include strop word , alpha numeric, punctuations or irrelevent word\n",
    "        if not(w.isalpha()) or w in stop_word or len(w)<2:\n",
    "            continue\n",
    "        if w in dic:\n",
    "            dic[w]+=1\n",
    "        else:\n",
    "            dic[w]=1"
   ]
  },
  {
   "cell_type": "code",
   "execution_count": 39,
   "metadata": {},
   "outputs": [],
   "source": [
    "#sorting the dictionary on the basis of frequency of words in descending order\n",
    "sort_d = sorted(dic.items(),key=operator.itemgetter(1),reverse=True)"
   ]
  },
  {
   "cell_type": "code",
   "execution_count": 10,
   "metadata": {},
   "outputs": [
    {
     "data": {
      "image/png": "[encoded data removed]",
      "text/plain": [
       "<Figure size 432x288 with 1 Axes>"
      ]
     },
     "metadata": {
      "needs_background": "light"
     },
     "output_type": "display_data"
    }
   ],
   "source": [
    "import matplotlib.pyplot as plt\n",
    "features = sort_d\n",
    "ans1=[]\n",
    "ans2=[]\n",
    "for i in range(len(features)):\n",
    "    ans1.append(i)\n",
    "    ans2.append(features[i][1])\n",
    "plt.plot(ans1,ans2)\n",
    "plt.axis([0,8000,1,5000])\n",
    "plt.grid()\n",
    "plt.show()"
   ]
  },
  {
   "cell_type": "code",
   "execution_count": 38,
   "metadata": {},
   "outputs": [],
   "source": [
    "#decide to make top 2500 words with max frequency as our feature\n",
    "ans1 = [features[i][0] for i in range(2500)]"
   ]
  },
  {
   "cell_type": "code",
   "execution_count": 15,
   "metadata": {},
   "outputs": [],
   "source": [
    "#making x_train dataset\n",
    "# no. of rows is equivalent to rows in x_train and column is equal to lenght of ans\n",
    "\n",
    "x_train_data = np.zeros([len(x_train),len(ans1)],int)\n",
    "for i in range(len(x_train)):\n",
    "    word =x_train[i][1].lower()\n",
    "    word =re.split(r'\\W+',word)\n",
    "    \n",
    "    #iterate over the word\n",
    "    for j in word:\n",
    "        #we add the frequency corresponding to that word only which are ans1\n",
    "        if j in ans1:\n",
    "            x_train_data[i][ans1.index(j)]+=1"
   ]
  },
  {
   "cell_type": "code",
   "execution_count": 16,
   "metadata": {},
   "outputs": [],
   "source": [
    "#making x_test\n",
    "x_test_data  = np.zeros([len(x_test),len(ans1)],int)\n",
    "for i in range(len(x_test)):\n",
    "    word =x_test[i][1].lower()\n",
    "    word = re.split(r'\\W+',word)\n",
    "    #iterate over the each word\n",
    "    for j in word:\n",
    "        # add the frequency corresponding to that word only which in our ans1\n",
    "        if j in ans1:\n",
    "            x_test_data[i][ans1.index(j)]+=1"
   ]
  },
  {
   "cell_type": "code",
   "execution_count": 17,
   "metadata": {},
   "outputs": [
    {
     "name": "stdout",
     "output_type": "stream",
     "text": [
      "[[10  0  4 ...  0  0  0]\n",
      " [12  0  3 ...  0  0  0]\n",
      " [10  0  2 ...  0  0  0]\n",
      " ...\n",
      " [ 7  0  2 ...  0  0  0]\n",
      " [ 7  0  1 ...  0  0  0]\n",
      " [13  0  4 ...  0  0  0]]\n",
      "----------------------------------------\n",
      "[[ 9  0  5 ...  0  0  0]\n",
      " [ 9  0  4 ...  0  0  0]\n",
      " [ 6  0  1 ...  0  0  0]\n",
      " ...\n",
      " [ 5  0  3 ...  0  0  0]\n",
      " [10  0  2 ...  0  0  0]\n",
      " [ 3  0  3 ...  0  0  0]]\n"
     ]
    }
   ],
   "source": [
    "#print the x_train and x_test\n",
    "print(x_train_data)\n",
    "print(\"----------------------------------------\")\n",
    "print(x_test_data)"
   ]
  },
  {
   "cell_type": "code",
   "execution_count": 20,
   "metadata": {},
   "outputs": [
    {
     "name": "stdout",
     "output_type": "stream",
     "text": [
      "Score of training data 0.8903113956124559\n",
      "Score of test data 0.858\n",
      "[[199   0   0   0   1   0   0   4   2   0   1   0   1   0   1   0   0   2\n",
      "    0  42]\n",
      " [  0 175  15  12  11   6   6   2   1   0   0   0   2   2   0   0   0   0\n",
      "    0   0]\n",
      " [  0   3 232  13   2   9   2   0   0   0   0   0   0   0   0   0   0   0\n",
      "    0   0]\n",
      " [  0   1   4 210  18   1   2   0   1   0   0   0   1   0   0   0   0   0\n",
      "    0   0]\n",
      " [  0   2   2  18 225   2   3   0   1   0   0   1   3   0   0   0   0   0\n",
      "    0   0]\n",
      " [  0  28  36   8   9 169   1   0   1   0   0   0   1   1   2   0   0   0\n",
      "    0   0]\n",
      " [  0   1   0   4   1   0 254   6   1   0   0   0   2   0   0   0   0   0\n",
      "    1   0]\n",
      " [  0   0   0   2   0   0  10 223   9   0   3   0   4   0   0   0   1   0\n",
      "    0   1]\n",
      " [  0   0   0   0   0   0   5   9 254   1   0   0   0   0   2   0   0   0\n",
      "    0   1]\n",
      " [  0   0   0   0   0   0   2   2   4 222  18   0   0   0   0   0   0   0\n",
      "    0   0]\n",
      " [  0   0   0   0   0   1   3   3   4   6 239   0   0   0   0   0   0   0\n",
      "    1   0]\n",
      " [  0   2   3   0   0   1   0   0   2   1   0 248   4   1   0   0   1   0\n",
      "    0   0]\n",
      " [  0   2   0  12   0   0   5   4   1   0   0   1 217   2   2   0   0   0\n",
      "    0   0]\n",
      " [  0   2   0   1   2   3   5   1   4   1   1   0   3 207   0   0   0   1\n",
      "    0   0]\n",
      " [  0   2   0   0   1   0   1   0   1   3   0   0   7   5 216   0   1   0\n",
      "    0   1]\n",
      " [  0   0   0   0   0   0   0   0   0   0   0   0   0   0   0 266   0   1\n",
      "    0   0]\n",
      " [  0   0   1   1   0   0   0   0   3   0   1   2   0   0   1   0 225   0\n",
      "   12   4]\n",
      " [  0   1   0   0   0   0   2   0   3   0   0   0   1   0   0   0   7 202\n",
      "   13   3]\n",
      " [  0   0   0   0   0   0   1   0   1   2   0   2   0   0   2   3  31  10\n",
      "  181  20]\n",
      " [ 46   1   0   0   0   0   1   1   0   0   1   0   0   0   2  13  13   1\n",
      "   18 126]]\n",
      "                          precision    recall  f1-score   support\n",
      "\n",
      "             alt.atheism       0.81      0.79      0.80       253\n",
      "           comp.graphics       0.80      0.75      0.77       232\n",
      " comp.os.ms-windows.misc       0.79      0.89      0.84       261\n",
      "comp.sys.ibm.pc.hardware       0.75      0.88      0.81       238\n",
      "   comp.sys.mac.hardware       0.83      0.88      0.85       257\n",
      "          comp.windows.x       0.88      0.66      0.75       256\n",
      "            misc.forsale       0.84      0.94      0.89       270\n",
      "               rec.autos       0.87      0.88      0.88       253\n",
      "         rec.motorcycles       0.87      0.93      0.90       272\n",
      "      rec.sport.baseball       0.94      0.90      0.92       248\n",
      "        rec.sport.hockey       0.91      0.93      0.92       257\n",
      "               sci.crypt       0.98      0.94      0.96       263\n",
      "         sci.electronics       0.88      0.88      0.88       246\n",
      "                 sci.med       0.95      0.90      0.92       231\n",
      "               sci.space       0.95      0.91      0.93       238\n",
      "  soc.religion.christian       0.94      1.00      0.97       267\n",
      "      talk.politics.guns       0.81      0.90      0.85       250\n",
      "   talk.politics.mideast       0.93      0.87      0.90       232\n",
      "      talk.politics.misc       0.80      0.72      0.76       253\n",
      "      talk.religion.misc       0.64      0.57      0.60       223\n",
      "\n",
      "                accuracy                           0.86      5000\n",
      "               macro avg       0.86      0.86      0.85      5000\n",
      "            weighted avg       0.86      0.86      0.86      5000\n",
      "\n"
     ]
    }
   ],
   "source": [
    "from sklearn.naive_bayes import MultinomialNB\n",
    "from sklearn.metrics import classification_report , confusion_matrix,accuracy_score\n",
    "\n",
    "clf=MultinomialNB()\n",
    "clf.fit(x_train_data,y_train)\n",
    "y_pred =clf.predict(x_test_data)\n",
    "print(\"Score of training data\",clf.score(x_train_data,y_train))\n",
    "print(\"Score of test data\",clf.score(x_test_data,y_test))\n",
    "print(confusion_matrix(y_test,y_pred))\n",
    "print(classification_report(y_test,y_pred))"
   ]
  },
  {
   "cell_type": "markdown",
   "metadata": {},
   "source": [
    "## Own scratch code of Naive bayes for text classification"
   ]
  },
  {
   "cell_type": "code",
   "execution_count": 28,
   "metadata": {},
   "outputs": [],
   "source": [
    "#making a dictionary for implementaing naive bayes\n",
    "\n",
    "def fit(x_train_data,y_train):\n",
    "    count ={}\n",
    "    total_word=0\n",
    "    y_train = np.array(y_train)\n",
    "    # total no of documents is calculated\n",
    "    count[\"total_doc\"]=len(y_train)\n",
    "    classess = set(y_train)\n",
    "    for i in classess:\n",
    "        temp =0\n",
    "        #selecting x_train corresponding to class present in y_train\n",
    "        x_train_with_i=x_train_data[y_train==i]\n",
    "        #finding lenght of data with category corresponding to i\n",
    "        temp2=x_train_with_i.shape[0]\n",
    "        count[i]={}\n",
    "        #Iterating over ans1\n",
    "        for feature in ans1:\n",
    "            #calculating total word in feature\n",
    "            l=(x_train_with_i[:,ans1.index(feature)]).sum()\n",
    "            count[i][feature]=l\n",
    "            temp+=1\n",
    "        #total word in that class\n",
    "        count[i][\"word_in_class\"]=temp\n",
    "        #lenght of data with y_train beloning to specific classes\n",
    "        count[i][\"lenght\"]=temp2\n",
    "    \n",
    "    return count"
   ]
  },
  {
   "cell_type": "code",
   "execution_count": 29,
   "metadata": {},
   "outputs": [],
   "source": [
    "def probability(x_test,dic,classess):\n",
    "    prob = np.log(dic[classess][\"length\"])-np.log(dic[\"total_doc\"])\n",
    "    feature=list(dic[classess].keys())\n",
    "    # -2 is done becaues there will be \"length\" and \"Word in classess\" preseent in features\n",
    "    for j in range(len(feature)-2):\n",
    "        xj=x_test[j]\n",
    "        #if frequency is 0, we will not consider it\n",
    "        if xj==0:\n",
    "            current_prob=0\n",
    "        else:\n",
    "            #extra addition part is laplace correction\n",
    "            num = dic[classess][feature[j]]+1\n",
    "            den=dic[classess][\"word_in_class\"]+len(dic[classess].keys())-2\n",
    "            current_prob=np.log(num)-np.log(den)\n",
    "        prob+=current_prob\n",
    "    return prob\n"
   ]
  },
  {
   "cell_type": "code",
   "execution_count": 30,
   "metadata": {},
   "outputs": [],
   "source": [
    "#best classess return from here\n",
    "def predict_for_single(x_test,dic):\n",
    "    first_run =True\n",
    "    classess=dic.keys()\n",
    "    for i in classess:\n",
    "        if i==\"total_doc\":\n",
    "            continue\n",
    "        prob=probability(x_test,dic,i)\n",
    "        if first_run or prob>best_prob:\n",
    "            best_prob=prob\n",
    "            first_run=False\n",
    "            best_class=i\n",
    "    return best_class\n"
   ]
  },
  {
   "cell_type": "code",
   "execution_count": 34,
   "metadata": {},
   "outputs": [],
   "source": [
    "def predict(x_test,dic):\n",
    "    y_pred=[]\n",
    "    for x in x_test:\n",
    "        y_pred.append(predict_for_single(x,dic))\n",
    "    return y_pred"
   ]
  },
  {
   "cell_type": "code",
   "execution_count": 35,
   "metadata": {},
   "outputs": [],
   "source": [
    "def score(y_test,y_pred):\n",
    "    count =0\n",
    "    for i in range(len(y_pred)):\n",
    "        if y_pred[i]==y_test[i]:\n",
    "            count+=1\n",
    "    return count/len(y_pred)"
   ]
  },
  {
   "cell_type": "code",
   "execution_count": 36,
   "metadata": {},
   "outputs": [],
   "source": [
    "dictionary = fit(x_train_data,y_train)\n",
    "y_pred = predict(x_test_data,dictionary)"
   ]
  },
  {
   "cell_type": "code",
   "execution_count": 37,
   "metadata": {},
   "outputs": [
    {
     "name": "stdout",
     "output_type": "stream",
     "text": [
      "Score on testing data 0.7\n",
      "[[204   0   0   0   0   0   0   0   0   0   0   0   0   0   0   0   0   4\n",
      "    7  38]\n",
      " [  1 202   0   1   0   6   0   0   0   0   0   9   0   0   0   0   1   3\n",
      "    9   0]\n",
      " [  0  34 150   3   0  52   0   0   0   0   0  10   0   0   0   0   0   1\n",
      "   11   0]\n",
      " [  0  39   0 169   5   1   0   0   0   0   0  15   1   0   0   0   0   2\n",
      "    6   0]\n",
      " [  0  57   1  20 131   6   0   0   0   0   0  29   1   0   1   0   0   2\n",
      "    9   0]\n",
      " [  0  36   2   0   0 205   0   0   0   0   0   5   0   0   1   0   0   1\n",
      "    6   0]\n",
      " [  0  24   0  13   1   1 136   4   0   0   0  13   2   0   7   0   4  11\n",
      "   52   2]\n",
      " [  1   1   0   0   0   1   3 158   0   1   0   2   4   2   3   0  12  17\n",
      "   48   0]\n",
      " [  9   0   0   0   0   0   2  20  79   0   0   7   0   1   7   0  18  57\n",
      "   70   2]\n",
      " [  0   0   0   0   0   0   0   1   0 191   3   0   0   0   2   0   2  27\n",
      "   21   1]\n",
      " [  0   1   0   0   0   0   0   0   0   6 216   0   1   0   0   0   0  19\n",
      "   14   0]\n",
      " [  0   1   0   0   0   0   0   0   0   0   0 259   0   0   0   0   0   0\n",
      "    3   0]\n",
      " [  0  14   0   4   0   0   0   0   0   0   0  46 108   1  34   0   1   8\n",
      "   29   1]\n",
      " [  0   6   0   0   0   0   0   0   0   0   0   3   0 157   2   0   0   8\n",
      "   52   3]\n",
      " [  0   2   0   0   0   0   0   0   0   0   0   5   0   0 205   0   0   5\n",
      "   20   1]\n",
      " [  0   0   0   0   0   0   0   0   0   0   0   0   0   0   0 258   0   8\n",
      "    1   0]\n",
      " [  0   0   1   0   0   0   0   0   0   0   0   4   0   0   0   0 120  10\n",
      "  114   1]\n",
      " [  0   0   0   0   0   0   0   0   0   0   0   0   0   0   0   0   0 227\n",
      "    5   0]\n",
      " [  0   0   0   0   0   0   0   0   0   0   0   2   0   0   1   0   4  15\n",
      "  224   7]\n",
      " [ 41   0   0   0   0   0   0   0   0   0   0   2   0   0   0   2   4  14\n",
      "   59 101]]\n"
     ]
    }
   ],
   "source": [
    "print(\"Score on testing data\",score(y_test,y_pred))\n",
    "print(confusion_matrix(y_test,y_pred))"
   ]
  },
  {
   "cell_type": "code",
   "execution_count": null,
   "metadata": {},
   "outputs": [],
   "source": []
  }
 ],
 "metadata": {
  "kernelspec": {
   "display_name": "Python 3",
   "language": "python",
   "name": "python3"
  },
  "language_info": {
   "codemirror_mode": {
    "name": "ipython",
    "version": 3
   },
   "file_extension": ".py",
   "mimetype": "text/x-python",
   "name": "python",
   "nbconvert_exporter": "python",
   "pygments_lexer": "ipython3",
   "version": "3.7.4"
  }
 },
 "nbformat": 4,
 "nbformat_minor": 2
}
